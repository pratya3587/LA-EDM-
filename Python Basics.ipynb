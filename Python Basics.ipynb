{
 "cells": [
  {
   "cell_type": "markdown",
   "metadata": {},
   "source": [
    "# 1. Python program to calculate Eucledian Distance between two points"
   ]
  },
  {
   "cell_type": "code",
   "execution_count": 3,
   "metadata": {},
   "outputs": [],
   "source": [
    "\n",
    " #import math library\n",
    "import math\n",
    " \n",
    "# Function to calculate distance\n",
    "def distance(x1 , y1 , x2 , y2):\n",
    " \n",
    "    # Calculating distance\n",
    "    return math.sqrt(math.pow(x2 - x1, 2) +\n",
    "                math.pow(y2 - y1, 2) * 1.0)\n",
    " \n",
    "\n"
   ]
  },
  {
   "cell_type": "code",
   "execution_count": 5,
   "metadata": {},
   "outputs": [
    {
     "name": "stdout",
     "output_type": "stream",
     "text": [
      "2.000000\n"
     ]
    }
   ],
   "source": [
    "#call distance function from print\n",
    "\n",
    "print(\"%.6f\"%distance(2, 3, 2, 5))"
   ]
  },
  {
   "cell_type": "markdown",
   "metadata": {},
   "source": [
    "# 2.Ask the user to input a positive integer and print whether it is even or odd. Also, check if the input given by the user is appropriate i.e. the number is not a positive integer."
   ]
  },
  {
   "cell_type": "code",
   "execution_count": 10,
   "metadata": {},
   "outputs": [
    {
     "name": "stdout",
     "output_type": "stream",
     "text": [
      "Enter a number: 6\n",
      "6 is Even\n"
     ]
    }
   ],
   "source": [
    "num = int(input(\"Enter a number: \"))\n",
    "if num <= 0:\n",
    "    print(\"Enter a positive integer\")\n",
    "else:\n",
    "    if (num % 2) == 0:\n",
    "        print(\"{0} is Even\".format(num))\n",
    "    else:\n",
    "        print(\"{0} is Odd\".format(num))"
   ]
  },
  {
   "cell_type": "markdown",
   "metadata": {},
   "source": [
    "# 3.Ask the user to enter two positive integers and print all the prime numbers in between these two numbers."
   ]
  },
  {
   "cell_type": "code",
   "execution_count": 16,
   "metadata": {},
   "outputs": [
    {
     "name": "stdout",
     "output_type": "stream",
     "text": [
      "Enter two positive numbers\n",
      "1\n",
      "100\n",
      "Prime numbers between 1 and 100 are:1 2 3 5 7 11 13 17 19 23 29 31 37 41 43 47 53 59 61 67 71 73 79 83 89 97 "
     ]
    }
   ],
   "source": [
    "print(\"Enter two positive numbers\")\n",
    "num1 = int(input())\n",
    "num2 = int(input())\n",
    "print(\"Prime numbers between\", num1, \"and\",\n",
    "                        num2 , \"are:\", end = \"\")\n",
    "\n",
    "# Traverse each number in the interval with the help of for loop\n",
    "for i in range(num1, num2 + 1):\n",
    "    flag = 1  # flag variable to tell if i is prime or not\n",
    "    for j in range(2, i // 2 + 1):\n",
    "            if (i % j == 0):\n",
    "                flag = 0\n",
    "                break\n",
    "             \n",
    "        # flag = 1 means i is prime\n",
    "        # and flag = 0 means i is not prime\n",
    "    if (flag == 1):\n",
    "            print(i, end = \" \")"
   ]
  },
  {
   "cell_type": "markdown",
   "metadata": {},
   "source": [
    "# 4. Write a Python function interval_intersect that takes the parameter a,b,c and d and returns True if the intervals [a,b] and [c,d] intersects and False otherwise."
   ]
  },
  {
   "cell_type": "code",
   "execution_count": 27,
   "metadata": {},
   "outputs": [
    {
     "name": "stdout",
     "output_type": "stream",
     "text": [
      "Enter four numbers to specify range of intervals\n",
      "1\n",
      "10\n",
      "-3\n",
      "7\n",
      "x== range(1, 10)\n",
      "y== range(-3, 7)\n",
      "    x  overlaps y\n"
     ]
    }
   ],
   "source": [
    "def interval_intersect(start1, end1, start2, end2):\n",
    "    \"\"\"how much does the range (start1, end1) overlap with (start2, end2)\"\"\"\n",
    "    return max(max((end2-start1), 0) - max((end2-end1), 0) - max((start2-start1), 0), 0)\n",
    "print(\"Enter four numbers to specify range of intervals\") \n",
    "a=int(input())\n",
    "b=int(input())\n",
    "c=int(input())\n",
    "d=int(input())\n",
    "x = range(a,b)\n",
    "y = range(c,d)\n",
    "print ('x==',x)\n",
    "print ('y==',y)\n",
    "z=interval_intersect(a,b,c,d)\n",
    "if z==0:\n",
    "    print ('    x does not overlap y' )\n",
    "else:\n",
    "    print ('    x  overlaps y' )"
   ]
  },
  {
   "cell_type": "code",
   "execution_count": null,
   "metadata": {},
   "outputs": [],
   "source": []
  }
 ],
 "metadata": {
  "kernelspec": {
   "display_name": "Python 3",
   "language": "python",
   "name": "python3"
  },
  "language_info": {
   "codemirror_mode": {
    "name": "ipython",
    "version": 3
   },
   "file_extension": ".py",
   "mimetype": "text/x-python",
   "name": "python",
   "nbconvert_exporter": "python",
   "pygments_lexer": "ipython3",
   "version": "3.9.1"
  }
 },
 "nbformat": 4,
 "nbformat_minor": 4
}
