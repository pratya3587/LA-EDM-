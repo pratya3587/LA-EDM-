{
 "cells": [
  {
   "cell_type": "code",
   "execution_count": 1,
   "metadata": {},
   "outputs": [],
   "source": [
    "import pandas as pd\n",
    "import numpy as np"
   ]
  },
  {
   "cell_type": "code",
   "execution_count": 2,
   "metadata": {},
   "outputs": [
    {
     "name": "stderr",
     "output_type": "stream",
     "text": [
      "c:\\users\\prati\\appdata\\local\\programs\\python\\python39\\lib\\site-packages\\IPython\\core\\interactiveshell.py:3418: DtypeWarning: Columns (10) have mixed types.Specify dtype option on import or set low_memory=False.\n",
      "  exec(code_obj, self.user_global_ns, self.user_ns)\n"
     ]
    },
    {
     "data": {
      "text/html": [
       "<div>\n",
       "<style scoped>\n",
       "    .dataframe tbody tr th:only-of-type {\n",
       "        vertical-align: middle;\n",
       "    }\n",
       "\n",
       "    .dataframe tbody tr th {\n",
       "        vertical-align: top;\n",
       "    }\n",
       "\n",
       "    .dataframe thead th {\n",
       "        text-align: right;\n",
       "    }\n",
       "</style>\n",
       "<table border=\"1\" class=\"dataframe\">\n",
       "  <thead>\n",
       "    <tr style=\"text-align: right;\">\n",
       "      <th></th>\n",
       "      <th>Unnamed: 0</th>\n",
       "      <th>user_id</th>\n",
       "      <th>Course_id</th>\n",
       "      <th>age_group</th>\n",
       "      <th>country</th>\n",
       "      <th>state</th>\n",
       "      <th>city</th>\n",
       "      <th>college</th>\n",
       "      <th>local_chapter</th>\n",
       "      <th>college_id</th>\n",
       "      <th>graduation year</th>\n",
       "      <th>profession</th>\n",
       "      <th>scholarship</th>\n",
       "      <th>qualification</th>\n",
       "      <th>degree</th>\n",
       "      <th>department</th>\n",
       "      <th>study_year</th>\n",
       "      <th>designation</th>\n",
       "      <th>motivation</th>\n",
       "      <th>exam_taker</th>\n",
       "    </tr>\n",
       "  </thead>\n",
       "  <tbody>\n",
       "    <tr>\n",
       "      <th>0</th>\n",
       "      <td>0</td>\n",
       "      <td>User2934854</td>\n",
       "      <td>noc19-ae01</td>\n",
       "      <td>13-20</td>\n",
       "      <td>IN</td>\n",
       "      <td>Telangana</td>\n",
       "      <td>HYDERABAD</td>\n",
       "      <td>MLR INSTITUTE OF TECHNOLOGY</td>\n",
       "      <td>True</td>\n",
       "      <td>773</td>\n",
       "      <td>2022</td>\n",
       "      <td>student</td>\n",
       "      <td>False</td>\n",
       "      <td>pre_university</td>\n",
       "      <td>btech</td>\n",
       "      <td>Aeronautical Engineering</td>\n",
       "      <td></td>\n",
       "      <td></td>\n",
       "      <td>student_stay_updated</td>\n",
       "      <td>True</td>\n",
       "    </tr>\n",
       "    <tr>\n",
       "      <th>1</th>\n",
       "      <td>1</td>\n",
       "      <td>User758130</td>\n",
       "      <td>noc19-ae01</td>\n",
       "      <td>20-30</td>\n",
       "      <td>IN</td>\n",
       "      <td>Tamil_Nadu</td>\n",
       "      <td>CHENNAI</td>\n",
       "      <td>PRINCE SHRI VENKATESHWARA PADMAVATHY ENGINEER...</td>\n",
       "      <td>True</td>\n",
       "      <td>331</td>\n",
       "      <td>2018</td>\n",
       "      <td>student</td>\n",
       "      <td>False</td>\n",
       "      <td>bachelor4yr</td>\n",
       "      <td>be</td>\n",
       "      <td>Mechanical Engineering</td>\n",
       "      <td></td>\n",
       "      <td></td>\n",
       "      <td>student_internship_job</td>\n",
       "      <td>True</td>\n",
       "    </tr>\n",
       "    <tr>\n",
       "      <th>2</th>\n",
       "      <td>2</td>\n",
       "      <td>User2977501</td>\n",
       "      <td>noc19-ae01</td>\n",
       "      <td>20-30</td>\n",
       "      <td>IN</td>\n",
       "      <td>Telangana</td>\n",
       "      <td>Warangal</td>\n",
       "      <td>BALAJI INSTITUTE OF TECHNOLOGY &amp; SCIENCE</td>\n",
       "      <td>True</td>\n",
       "      <td>1238</td>\n",
       "      <td>2021</td>\n",
       "      <td>student</td>\n",
       "      <td>False</td>\n",
       "      <td>diploma</td>\n",
       "      <td>btech</td>\n",
       "      <td>Mechanical Engineering</td>\n",
       "      <td></td>\n",
       "      <td></td>\n",
       "      <td>student_internship_job</td>\n",
       "      <td>True</td>\n",
       "    </tr>\n",
       "    <tr>\n",
       "      <th>3</th>\n",
       "      <td>3</td>\n",
       "      <td>User1293511</td>\n",
       "      <td>noc19-ae01</td>\n",
       "      <td>20-30</td>\n",
       "      <td>IN</td>\n",
       "      <td>Delhi</td>\n",
       "      <td>Delhi</td>\n",
       "      <td></td>\n",
       "      <td>True</td>\n",
       "      <td></td>\n",
       "      <td>2014</td>\n",
       "      <td>employed</td>\n",
       "      <td>False</td>\n",
       "      <td>pre_university</td>\n",
       "      <td></td>\n",
       "      <td></td>\n",
       "      <td></td>\n",
       "      <td></td>\n",
       "      <td>professional_stay_updated</td>\n",
       "      <td>False</td>\n",
       "    </tr>\n",
       "    <tr>\n",
       "      <th>4</th>\n",
       "      <td>4</td>\n",
       "      <td>User2704798</td>\n",
       "      <td>noc19-ae01</td>\n",
       "      <td>20-30</td>\n",
       "      <td>IN</td>\n",
       "      <td>Karnataka</td>\n",
       "      <td>CHICKBALLAPUR</td>\n",
       "      <td>SRI JAGADGURU CHANDRASHEKARANATHA SWAMIJI INS...</td>\n",
       "      <td>True</td>\n",
       "      <td>496</td>\n",
       "      <td>2014</td>\n",
       "      <td>faculty</td>\n",
       "      <td>False</td>\n",
       "      <td>masters</td>\n",
       "      <td></td>\n",
       "      <td>Aeronautical Engineering</td>\n",
       "      <td></td>\n",
       "      <td></td>\n",
       "      <td>faculty_research</td>\n",
       "      <td>False</td>\n",
       "    </tr>\n",
       "  </tbody>\n",
       "</table>\n",
       "</div>"
      ],
      "text/plain": [
       "   Unnamed: 0      user_id   Course_id age_group country         state  \\\n",
       "0           0  User2934854  noc19-ae01    13-20      IN     Telangana    \n",
       "1           1   User758130  noc19-ae01    20-30      IN    Tamil_Nadu    \n",
       "2           2  User2977501  noc19-ae01    20-30      IN     Telangana    \n",
       "3           3  User1293511  noc19-ae01    20-30      IN         Delhi    \n",
       "4           4  User2704798  noc19-ae01    20-30      IN     Karnataka    \n",
       "\n",
       "              city                                            college  \\\n",
       "0       HYDERABAD                        MLR INSTITUTE OF TECHNOLOGY    \n",
       "1         CHENNAI    PRINCE SHRI VENKATESHWARA PADMAVATHY ENGINEER...   \n",
       "2        Warangal           BALAJI INSTITUTE OF TECHNOLOGY & SCIENCE    \n",
       "3           Delhi                                                       \n",
       "4   CHICKBALLAPUR    SRI JAGADGURU CHANDRASHEKARANATHA SWAMIJI INS...   \n",
       "\n",
       "  local_chapter college_id graduation year  profession  scholarship  \\\n",
       "0         True         773            2022    student        False    \n",
       "1         True         331            2018    student        False    \n",
       "2         True        1238            2021    student        False    \n",
       "3         True                        2014   employed        False    \n",
       "4         True         496            2014    faculty        False    \n",
       "\n",
       "      qualification   degree                  department study_year  \\\n",
       "0   pre_university    btech    Aeronautical Engineering               \n",
       "1      bachelor4yr       be      Mechanical Engineering               \n",
       "2          diploma    btech      Mechanical Engineering               \n",
       "3   pre_university                                                    \n",
       "4          masters             Aeronautical Engineering               \n",
       "\n",
       "  designation                  motivation exam_taker  \n",
       "0                    student_stay_updated       True  \n",
       "1                  student_internship_job       True  \n",
       "2                  student_internship_job       True  \n",
       "3               professional_stay_updated      False  \n",
       "4                        faculty_research      False  "
      ]
     },
     "execution_count": 2,
     "metadata": {},
     "output_type": "execute_result"
    }
   ],
   "source": [
    "#jan 2019 data\n",
    "x=pd.read_csv(r'C:\\Users\\prati\\Downloads\\19-20\\enrolled_feb05-1.csv')\n",
    "y=pd.read_csv(r'C:\\Users\\prati\\Downloads\\19-20\\enrolled_feb05-1.csv')\n",
    "df=pd.concat([x,y])\n",
    "df.head()"
   ]
  },
  {
   "cell_type": "code",
   "execution_count": 3,
   "metadata": {},
   "outputs": [
    {
     "name": "stderr",
     "output_type": "stream",
     "text": [
      "c:\\users\\prati\\appdata\\local\\programs\\python\\python39\\lib\\site-packages\\IPython\\core\\interactiveshell.py:3418: DtypeWarning: Columns (10) have mixed types.Specify dtype option on import or set low_memory=False.\n",
      "  exec(code_obj, self.user_global_ns, self.user_ns)\n",
      "c:\\users\\prati\\appdata\\local\\programs\\python\\python39\\lib\\site-packages\\IPython\\core\\interactiveshell.py:3418: DtypeWarning: Columns (9,12,18) have mixed types.Specify dtype option on import or set low_memory=False.\n",
      "  exec(code_obj, self.user_global_ns, self.user_ns)\n"
     ]
    }
   ],
   "source": [
    "# july 19 ,jan 20 and jul 2019 data\n",
    "df1=pd.read_csv(r'C:\\Users\\prati\\Downloads\\19-20\\july19_full_dt.csv')\n",
    "df2=pd.read_csv(r'C:\\Users\\prati\\Downloads\\19-20\\jan20_full_dt.csv')\n",
    "df3=pd.read_csv(r'C:\\Users\\prati\\Downloads\\19-20\\july20_full_dt.csv')\n"
   ]
  },
  {
   "cell_type": "code",
   "execution_count": 47,
   "metadata": {},
   "outputs": [
    {
     "data": {
      "text/html": [
       "<div>\n",
       "<style scoped>\n",
       "    .dataframe tbody tr th:only-of-type {\n",
       "        vertical-align: middle;\n",
       "    }\n",
       "\n",
       "    .dataframe tbody tr th {\n",
       "        vertical-align: top;\n",
       "    }\n",
       "\n",
       "    .dataframe thead th {\n",
       "        text-align: right;\n",
       "    }\n",
       "</style>\n",
       "<table border=\"1\" class=\"dataframe\">\n",
       "  <thead>\n",
       "    <tr style=\"text-align: right;\">\n",
       "      <th></th>\n",
       "      <th>Unnamed: 0</th>\n",
       "      <th>Unnamed: 0.1</th>\n",
       "      <th>user_id</th>\n",
       "      <th>age_group</th>\n",
       "      <th>country</th>\n",
       "      <th>state</th>\n",
       "      <th>city</th>\n",
       "      <th>college</th>\n",
       "      <th>local_chapter</th>\n",
       "      <th>college_id</th>\n",
       "      <th>...</th>\n",
       "      <th>scholarship</th>\n",
       "      <th>qualification</th>\n",
       "      <th>degree</th>\n",
       "      <th>department</th>\n",
       "      <th>study_year</th>\n",
       "      <th>designation</th>\n",
       "      <th>motivation</th>\n",
       "      <th>exam_taker</th>\n",
       "      <th>employer_id</th>\n",
       "      <th>Course_id</th>\n",
       "    </tr>\n",
       "  </thead>\n",
       "  <tbody>\n",
       "    <tr>\n",
       "      <th>0</th>\n",
       "      <td>0</td>\n",
       "      <td>0</td>\n",
       "      <td>User1668813</td>\n",
       "      <td>30-40</td>\n",
       "      <td>IN</td>\n",
       "      <td>Andhra_Pradesh</td>\n",
       "      <td>GUNTUR</td>\n",
       "      <td>VIGNAN'S FOUNDATION FOR SCIENCE TECHNOLOGY AN...</td>\n",
       "      <td>True</td>\n",
       "      <td>1366</td>\n",
       "      <td>...</td>\n",
       "      <td>False</td>\n",
       "      <td>masters</td>\n",
       "      <td></td>\n",
       "      <td>Textile Engineering</td>\n",
       "      <td></td>\n",
       "      <td></td>\n",
       "      <td></td>\n",
       "      <td>False</td>\n",
       "      <td></td>\n",
       "      <td>noc20_te05</td>\n",
       "    </tr>\n",
       "    <tr>\n",
       "      <th>1</th>\n",
       "      <td>1</td>\n",
       "      <td>1</td>\n",
       "      <td>User1065388</td>\n",
       "      <td>20-30</td>\n",
       "      <td>IN</td>\n",
       "      <td>West_Bengal</td>\n",
       "      <td>BERHAMPORE</td>\n",
       "      <td>GOVT. COLLEGE OF ENGINEERING &amp; TEXTILE TECHNO...</td>\n",
       "      <td>True</td>\n",
       "      <td>708</td>\n",
       "      <td>...</td>\n",
       "      <td>False</td>\n",
       "      <td>high_school</td>\n",
       "      <td>btech</td>\n",
       "      <td>Textile Engineering</td>\n",
       "      <td>3</td>\n",
       "      <td></td>\n",
       "      <td></td>\n",
       "      <td>False</td>\n",
       "      <td></td>\n",
       "      <td>noc20_te05</td>\n",
       "    </tr>\n",
       "    <tr>\n",
       "      <th>2</th>\n",
       "      <td>2</td>\n",
       "      <td>2</td>\n",
       "      <td>User1274387</td>\n",
       "      <td>30-40</td>\n",
       "      <td>IN</td>\n",
       "      <td>Tamil_Nadu</td>\n",
       "      <td>Coimbatore</td>\n",
       "      <td>PSG College of Technology</td>\n",
       "      <td>True</td>\n",
       "      <td>1163</td>\n",
       "      <td>...</td>\n",
       "      <td>False</td>\n",
       "      <td>doctoral</td>\n",
       "      <td></td>\n",
       "      <td>Textile Engineering</td>\n",
       "      <td></td>\n",
       "      <td></td>\n",
       "      <td></td>\n",
       "      <td>False</td>\n",
       "      <td></td>\n",
       "      <td>noc20_te05</td>\n",
       "    </tr>\n",
       "    <tr>\n",
       "      <th>3</th>\n",
       "      <td>3</td>\n",
       "      <td>3</td>\n",
       "      <td>User194714</td>\n",
       "      <td>13-20</td>\n",
       "      <td>IN</td>\n",
       "      <td>Rajasthan</td>\n",
       "      <td>JAIPUR</td>\n",
       "      <td>UNIVERSITY OF ENGINEERING AND MANAGEMENT JAIPUR</td>\n",
       "      <td>True</td>\n",
       "      <td>485</td>\n",
       "      <td>...</td>\n",
       "      <td>False</td>\n",
       "      <td>pre_university</td>\n",
       "      <td>btech</td>\n",
       "      <td>Electronics and Communication Engineering</td>\n",
       "      <td>3</td>\n",
       "      <td></td>\n",
       "      <td></td>\n",
       "      <td>False</td>\n",
       "      <td></td>\n",
       "      <td>noc20_te05</td>\n",
       "    </tr>\n",
       "    <tr>\n",
       "      <th>4</th>\n",
       "      <td>4</td>\n",
       "      <td>4</td>\n",
       "      <td>User426027</td>\n",
       "      <td>13-20</td>\n",
       "      <td>IN</td>\n",
       "      <td>Maharashtra</td>\n",
       "      <td>PUNE</td>\n",
       "      <td>VISHWAKARMA INSTITUTE OF INFORMATION TECHNOLOGY</td>\n",
       "      <td>True</td>\n",
       "      <td>377</td>\n",
       "      <td>...</td>\n",
       "      <td>False</td>\n",
       "      <td>diploma</td>\n",
       "      <td>btech</td>\n",
       "      <td>Information Technology</td>\n",
       "      <td>3</td>\n",
       "      <td></td>\n",
       "      <td></td>\n",
       "      <td>False</td>\n",
       "      <td></td>\n",
       "      <td>noc20_te05</td>\n",
       "    </tr>\n",
       "  </tbody>\n",
       "</table>\n",
       "<p>5 rows × 22 columns</p>\n",
       "</div>"
      ],
      "text/plain": [
       "   Unnamed: 0  Unnamed: 0.1      user_id age_group country             state  \\\n",
       "0           0             0  User1668813    30-40      IN    Andhra_Pradesh    \n",
       "1           1             1  User1065388    20-30      IN       West_Bengal    \n",
       "2           2             2  User1274387    30-40      IN        Tamil_Nadu    \n",
       "3           3             3   User194714    13-20      IN         Rajasthan    \n",
       "4           4             4   User426027    13-20      IN       Maharashtra    \n",
       "\n",
       "           city                                            college  \\\n",
       "0       GUNTUR    VIGNAN'S FOUNDATION FOR SCIENCE TECHNOLOGY AN...   \n",
       "1   BERHAMPORE    GOVT. COLLEGE OF ENGINEERING & TEXTILE TECHNO...   \n",
       "2   Coimbatore                          PSG College of Technology    \n",
       "3       JAIPUR    UNIVERSITY OF ENGINEERING AND MANAGEMENT JAIPUR    \n",
       "4         PUNE    VISHWAKARMA INSTITUTE OF INFORMATION TECHNOLOGY    \n",
       "\n",
       "  local_chapter college_id  ...  scholarship     qualification   degree  \\\n",
       "0         True       1366   ...       False           masters             \n",
       "1         True        708   ...       False       high_school    btech    \n",
       "2         True       1163   ...       False          doctoral             \n",
       "3         True        485   ...       False    pre_university    btech    \n",
       "4         True        377   ...       False           diploma    btech    \n",
       "\n",
       "                                    department study_year designation  \\\n",
       "0                         Textile Engineering                           \n",
       "1                         Textile Engineering          3                \n",
       "2                         Textile Engineering                           \n",
       "3   Electronics and Communication Engineering          3                \n",
       "4                      Information Technology          3                \n",
       "\n",
       "  motivation exam_taker employer_id   Course_id  \n",
       "0                 False              noc20_te05  \n",
       "1                 False              noc20_te05  \n",
       "2                 False              noc20_te05  \n",
       "3                 False              noc20_te05  \n",
       "4                 False              noc20_te05  \n",
       "\n",
       "[5 rows x 22 columns]"
      ]
     },
     "execution_count": 47,
     "metadata": {},
     "output_type": "execute_result"
    }
   ],
   "source": [
    "df2.head()"
   ]
  },
  {
   "cell_type": "code",
   "execution_count": 48,
   "metadata": {},
   "outputs": [
    {
     "name": "stderr",
     "output_type": "stream",
     "text": [
      "c:\\users\\prati\\appdata\\local\\programs\\python\\python39\\lib\\site-packages\\IPython\\core\\interactiveshell.py:3418: DtypeWarning: Columns (8,11) have mixed types.Specify dtype option on import or set low_memory=False.\n",
      "  exec(code_obj, self.user_global_ns, self.user_ns)\n"
     ]
    }
   ],
   "source": [
    "# jan 2021\n",
    "def MID(s, start, length):\n",
    "    # example: MID(\"apple\",2,3) returns \"ppl\"\n",
    "    return str(s[start - 1: start - 1 + length])\n",
    "\n",
    "import glob\n",
    "#import pandas as pd\n",
    "\n",
    "df_list = []\n",
    "for file in glob.glob(r'C:\\Users\\prati\\Downloads\\2021\\Jan\\*.csv'):\n",
    "    # Tweak this to work for your actual filepaths, if needed.\n",
    "   \n",
    "    t_course_id = MID(file,47,10)\n",
    "    #print(course_id)\n",
    "    df = (pd.read_csv(file)\n",
    "            .assign(Course_id=t_course_id))\n",
    "    df_list.append(df)\n",
    "\n",
    "df4 = pd.concat(df_list)"
   ]
  },
  {
   "cell_type": "code",
   "execution_count": 49,
   "metadata": {},
   "outputs": [
    {
     "name": "stderr",
     "output_type": "stream",
     "text": [
      "c:\\users\\prati\\appdata\\local\\programs\\python\\python39\\lib\\site-packages\\IPython\\core\\interactiveshell.py:3418: DtypeWarning: Columns (11) have mixed types.Specify dtype option on import or set low_memory=False.\n",
      "  exec(code_obj, self.user_global_ns, self.user_ns)\n"
     ]
    }
   ],
   "source": [
    "# jul 2021\n",
    "df_list = []\n",
    "for file in glob.glob(r'C:\\Users\\prati\\Downloads\\2021\\July\\*.csv'):\n",
    "    # Tweak this to work for your actual filepaths, if needed.\n",
    "   \n",
    "    t_course_id = MID(file,47,10)\n",
    "    #print(course_id)\n",
    "    df = (pd.read_csv(file)\n",
    "            .assign(Course_id=t_course_id))\n",
    "    df_list.append(df)\n",
    "\n",
    "df5 = pd.concat(df_list)"
   ]
  },
  {
   "cell_type": "code",
   "execution_count": 50,
   "metadata": {},
   "outputs": [
    {
     "name": "stdout",
     "output_type": "stream",
     "text": [
      "<class 'pandas.core.frame.DataFrame'>\n",
      "Int64Index: 9490195 entries, 0 to 336\n",
      "Data columns (total 25 columns):\n",
      " #   Column           Dtype  \n",
      "---  ------           -----  \n",
      " 0   Unnamed: 0       int64  \n",
      " 1   user_id          object \n",
      " 2   age_group        object \n",
      " 3   country          object \n",
      " 4   state            object \n",
      " 5   city             object \n",
      " 6   college          object \n",
      " 7   local_chapter    object \n",
      " 8   college_id       object \n",
      " 9   graduation year  object \n",
      " 10  profession       object \n",
      " 11  scholarship      object \n",
      " 12  qualification    object \n",
      " 13  degree           object \n",
      " 14  department       object \n",
      " 15  study_year       object \n",
      " 16  designation      object \n",
      " 17  motivation       object \n",
      " 18  exam_taker       object \n",
      " 19  employer_id      object \n",
      " 20  Course_id        object \n",
      " 21  Unnamed: 0.1     float64\n",
      " 22   city            object \n",
      " 23   scholarship     object \n",
      " 24   degree          object \n",
      "dtypes: float64(1), int64(1), object(23)\n",
      "memory usage: 1.8+ GB\n"
     ]
    }
   ],
   "source": [
    "# all sem data\n",
    "df6=pd.concat([df,df1,df2,df3,df4,df5])\n",
    "df6.info()"
   ]
  },
  {
   "cell_type": "code",
   "execution_count": 53,
   "metadata": {},
   "outputs": [],
   "source": [
    "df7=df6.drop(['country', 'state','city','college','local_chapter','college_id','motivation','Unnamed: 0','Unnamed: 0.1','employer_id'], axis=1)"
   ]
  },
  {
   "cell_type": "code",
   "execution_count": 54,
   "metadata": {},
   "outputs": [
    {
     "name": "stdout",
     "output_type": "stream",
     "text": [
      "<class 'pandas.core.frame.DataFrame'>\n",
      "Int64Index: 9490195 entries, 0 to 336\n",
      "Data columns (total 15 columns):\n",
      " #   Column           Dtype \n",
      "---  ------           ----- \n",
      " 0   user_id          object\n",
      " 1   age_group        object\n",
      " 2   graduation year  object\n",
      " 3   profession       object\n",
      " 4   scholarship      object\n",
      " 5   qualification    object\n",
      " 6   degree           object\n",
      " 7   department       object\n",
      " 8   study_year       object\n",
      " 9   designation      object\n",
      " 10  exam_taker       object\n",
      " 11  Course_id        object\n",
      " 12   city            object\n",
      " 13   scholarship     object\n",
      " 14   degree          object\n",
      "dtypes: object(15)\n",
      "memory usage: 1.1+ GB\n"
     ]
    }
   ],
   "source": [
    "df7.info()"
   ]
  },
  {
   "cell_type": "markdown",
   "metadata": {},
   "source": [
    "!pip install openpyxl\n",
    "import openpyxl\n",
    "z=pd.read_excel(r'C:\\Users\\prati\\Downloads\\NPTEL_Overall_course_list.xlsx')\n",
    "z.head()"
   ]
  },
  {
   "cell_type": "markdown",
   "metadata": {},
   "source": [
    "z.rename(columns={'NOC Course Id':'Course_id'}, inplace=True)"
   ]
  },
  {
   "cell_type": "markdown",
   "metadata": {},
   "source": [
    "z['Course_id']=z['Course_id'].str.strip()\n",
    "df7['Course_id']=df7['Course_id'].str.strip()\n"
   ]
  },
  {
   "cell_type": "markdown",
   "metadata": {},
   "source": [
    "z['Course Name'] = z['Course Name'].astype(str)\n",
    "z['Semester'] = z['Semester'].astype(str)\n",
    "z['SME Name'] = z['SME Name'].astype(str)\n",
    "z['Institute'] = z['Institute'].astype(str)\n",
    "z['Course_id'] = z['Course_id'].astype(str)"
   ]
  },
  {
   "cell_type": "code",
   "execution_count": 72,
   "metadata": {},
   "outputs": [],
   "source": [
    "df7=df7.drop(['scholarship', ' scholarship'], axis=1)"
   ]
  },
  {
   "cell_type": "code",
   "execution_count": 73,
   "metadata": {},
   "outputs": [],
   "source": [
    "df7=df7.drop([' city', ' degree','degree'], axis=1)"
   ]
  },
  {
   "cell_type": "code",
   "execution_count": 75,
   "metadata": {},
   "outputs": [],
   "source": [
    "df7['age_group'] = df7['age_group'].astype(str)\n",
    "df7['user_id'] = df7['user_id'].astype(str)\n",
    "df7['graduation year'] = df7['graduation year'].astype(str)\n",
    "df7['profession'] = df7['profession'].astype(str)\n",
    "df7['qualification'] = df7['qualification'].astype(str)\n",
    "df7['designation'] = df7['designation'].astype(str)\n",
    "df7['department'] = df7['department'].astype(str)\n",
    "df7['study_year'] = df7['study_year'].astype(str)\n",
    "df7['exam_taker'] = df7['exam_taker'].astype(str)\n",
    "df7['Course_id'] = df7['Course_id'].astype(str)\n"
   ]
  },
  {
   "cell_type": "markdown",
   "metadata": {},
   "source": [
    "df8 = pd.merge(df7,z, on='Course_id', how='left')\n",
    "df8.head()"
   ]
  },
  {
   "cell_type": "markdown",
   "metadata": {},
   "source": [
    "df8.info()"
   ]
  },
  {
   "cell_type": "code",
   "execution_count": 81,
   "metadata": {},
   "outputs": [
    {
     "data": {
      "text/plain": [
       "2149"
      ]
     },
     "execution_count": 81,
     "metadata": {},
     "output_type": "execute_result"
    }
   ],
   "source": [
    "cc=df7['Course_id'].unique()\n",
    "len(cc)"
   ]
  },
  {
   "cell_type": "code",
   "execution_count": 82,
   "metadata": {},
   "outputs": [
    {
     "data": {
      "text/plain": [
       "3252562"
      ]
     },
     "execution_count": 82,
     "metadata": {},
     "output_type": "execute_result"
    }
   ],
   "source": [
    "cc=df7['user_id'].unique()\n",
    "len(cc)"
   ]
  },
  {
   "cell_type": "code",
   "execution_count": 86,
   "metadata": {},
   "outputs": [
    {
     "name": "stdout",
     "output_type": "stream",
     "text": [
      "<class 'pandas.core.frame.DataFrame'>\n",
      "Index: 3252562 entries, User1 to User999999\n",
      "Data columns (total 1 columns):\n",
      " #   Column     Dtype\n",
      "---  ------     -----\n",
      " 0   Course_id  int64\n",
      "dtypes: int64(1)\n",
      "memory usage: 49.6+ MB\n"
     ]
    }
   ],
   "source": [
    "table = pd.pivot_table(df7,index=['user_id'],values=['Course_id'], aggfunc=pd.Series.nunique)\n",
    "table.info()"
   ]
  },
  {
   "cell_type": "code",
   "execution_count": 87,
   "metadata": {},
   "outputs": [
    {
     "data": {
      "text/html": [
       "<div>\n",
       "<style scoped>\n",
       "    .dataframe tbody tr th:only-of-type {\n",
       "        vertical-align: middle;\n",
       "    }\n",
       "\n",
       "    .dataframe tbody tr th {\n",
       "        vertical-align: top;\n",
       "    }\n",
       "\n",
       "    .dataframe thead th {\n",
       "        text-align: right;\n",
       "    }\n",
       "</style>\n",
       "<table border=\"1\" class=\"dataframe\">\n",
       "  <thead>\n",
       "    <tr style=\"text-align: right;\">\n",
       "      <th></th>\n",
       "      <th>Course_id</th>\n",
       "    </tr>\n",
       "    <tr>\n",
       "      <th>user_id</th>\n",
       "      <th></th>\n",
       "    </tr>\n",
       "  </thead>\n",
       "  <tbody>\n",
       "    <tr>\n",
       "      <th>User1</th>\n",
       "      <td>1</td>\n",
       "    </tr>\n",
       "    <tr>\n",
       "      <th>User10</th>\n",
       "      <td>1</td>\n",
       "    </tr>\n",
       "    <tr>\n",
       "      <th>User100</th>\n",
       "      <td>5</td>\n",
       "    </tr>\n",
       "    <tr>\n",
       "      <th>User1000</th>\n",
       "      <td>1</td>\n",
       "    </tr>\n",
       "    <tr>\n",
       "      <th>User100000</th>\n",
       "      <td>2</td>\n",
       "    </tr>\n",
       "  </tbody>\n",
       "</table>\n",
       "</div>"
      ],
      "text/plain": [
       "            Course_id\n",
       "user_id              \n",
       "User1               1\n",
       "User10              1\n",
       "User100             5\n",
       "User1000            1\n",
       "User100000          2"
      ]
     },
     "execution_count": 87,
     "metadata": {},
     "output_type": "execute_result"
    }
   ],
   "source": [
    "table.head()"
   ]
  },
  {
   "cell_type": "code",
   "execution_count": 88,
   "metadata": {},
   "outputs": [
    {
     "name": "stdout",
     "output_type": "stream",
     "text": [
      "<class 'pandas.core.frame.DataFrame'>\n",
      "Index: 1588843 entries, User100 to User999999\n",
      "Data columns (total 1 columns):\n",
      " #   Column     Non-Null Count    Dtype\n",
      "---  ------     --------------    -----\n",
      " 0   Course_id  1588843 non-null  int64\n",
      "dtypes: int64(1)\n",
      "memory usage: 24.2+ MB\n"
     ]
    }
   ],
   "source": [
    "table=table.drop(table[table['Course_id']<2].index,axis=0)\n",
    "table.info()"
   ]
  },
  {
   "cell_type": "code",
   "execution_count": 90,
   "metadata": {},
   "outputs": [
    {
     "data": {
      "text/html": [
       "<div>\n",
       "<style scoped>\n",
       "    .dataframe tbody tr th:only-of-type {\n",
       "        vertical-align: middle;\n",
       "    }\n",
       "\n",
       "    .dataframe tbody tr th {\n",
       "        vertical-align: top;\n",
       "    }\n",
       "\n",
       "    .dataframe thead th {\n",
       "        text-align: right;\n",
       "    }\n",
       "</style>\n",
       "<table border=\"1\" class=\"dataframe\">\n",
       "  <thead>\n",
       "    <tr style=\"text-align: right;\">\n",
       "      <th></th>\n",
       "      <th>user_id</th>\n",
       "      <th>Course_id_x</th>\n",
       "      <th>age_group</th>\n",
       "      <th>graduation year</th>\n",
       "      <th>profession</th>\n",
       "      <th>qualification</th>\n",
       "      <th>department</th>\n",
       "      <th>study_year</th>\n",
       "      <th>designation</th>\n",
       "      <th>exam_taker</th>\n",
       "      <th>Course_id_y</th>\n",
       "    </tr>\n",
       "  </thead>\n",
       "  <tbody>\n",
       "    <tr>\n",
       "      <th>0</th>\n",
       "      <td>User100</td>\n",
       "      <td>5</td>\n",
       "      <td>20-30</td>\n",
       "      <td>2017</td>\n",
       "      <td>employed</td>\n",
       "      <td>bachelor4yr</td>\n",
       "      <td></td>\n",
       "      <td></td>\n",
       "      <td></td>\n",
       "      <td>False</td>\n",
       "      <td>noc20_me02</td>\n",
       "    </tr>\n",
       "    <tr>\n",
       "      <th>1</th>\n",
       "      <td>User100</td>\n",
       "      <td>5</td>\n",
       "      <td>20-30</td>\n",
       "      <td>2017.0</td>\n",
       "      <td>employed</td>\n",
       "      <td>bachelor4yr</td>\n",
       "      <td>nan</td>\n",
       "      <td>nan</td>\n",
       "      <td>nan</td>\n",
       "      <td>nan</td>\n",
       "      <td>noc20_me53_23</td>\n",
       "    </tr>\n",
       "    <tr>\n",
       "      <th>2</th>\n",
       "      <td>User100</td>\n",
       "      <td>5</td>\n",
       "      <td>20-30</td>\n",
       "      <td>2017.0</td>\n",
       "      <td>employed</td>\n",
       "      <td>bachelor4yr</td>\n",
       "      <td>nan</td>\n",
       "      <td>nan</td>\n",
       "      <td>nan</td>\n",
       "      <td>nan</td>\n",
       "      <td>noc20_ae14_23</td>\n",
       "    </tr>\n",
       "    <tr>\n",
       "      <th>3</th>\n",
       "      <td>User100</td>\n",
       "      <td>5</td>\n",
       "      <td>20-30</td>\n",
       "      <td>2017.0</td>\n",
       "      <td>employed</td>\n",
       "      <td>bachelor4yr</td>\n",
       "      <td>nan</td>\n",
       "      <td>nan</td>\n",
       "      <td>nan</td>\n",
       "      <td>nan</td>\n",
       "      <td>noc20_ae06_23</td>\n",
       "    </tr>\n",
       "    <tr>\n",
       "      <th>4</th>\n",
       "      <td>User100</td>\n",
       "      <td>5</td>\n",
       "      <td>20-30</td>\n",
       "      <td>2017.0</td>\n",
       "      <td>employed</td>\n",
       "      <td>bachelor4yr</td>\n",
       "      <td>nan</td>\n",
       "      <td>nan</td>\n",
       "      <td>nan</td>\n",
       "      <td>nan</td>\n",
       "      <td>noc20_me56_23</td>\n",
       "    </tr>\n",
       "  </tbody>\n",
       "</table>\n",
       "</div>"
      ],
      "text/plain": [
       "   user_id  Course_id_x age_group graduation year  profession  qualification  \\\n",
       "0  User100            5    20-30             2017   employed    bachelor4yr    \n",
       "1  User100            5     20-30          2017.0    employed    bachelor4yr   \n",
       "2  User100            5     20-30          2017.0    employed    bachelor4yr   \n",
       "3  User100            5     20-30          2017.0    employed    bachelor4yr   \n",
       "4  User100            5     20-30          2017.0    employed    bachelor4yr   \n",
       "\n",
       "  department study_year designation exam_taker    Course_id_y  \n",
       "0                                        False     noc20_me02  \n",
       "1        nan        nan         nan        nan  noc20_me53_23  \n",
       "2        nan        nan         nan        nan  noc20_ae14_23  \n",
       "3        nan        nan         nan        nan  noc20_ae06_23  \n",
       "4        nan        nan         nan        nan  noc20_me56_23  "
      ]
     },
     "execution_count": 90,
     "metadata": {},
     "output_type": "execute_result"
    }
   ],
   "source": [
    "df_1 = pd.merge(table,df7, on='user_id', how='left')\n",
    "df_1.head()"
   ]
  },
  {
   "cell_type": "code",
   "execution_count": 92,
   "metadata": {},
   "outputs": [
    {
     "name": "stdout",
     "output_type": "stream",
     "text": [
      "<class 'pandas.core.frame.DataFrame'>\n",
      "Int64Index: 7795148 entries, 0 to 7795147\n",
      "Data columns (total 11 columns):\n",
      " #   Column           Dtype \n",
      "---  ------           ----- \n",
      " 0   user_id          object\n",
      " 1   Course_id_x      int64 \n",
      " 2   age_group        object\n",
      " 3   graduation year  object\n",
      " 4   profession       object\n",
      " 5   qualification    object\n",
      " 6   department       object\n",
      " 7   study_year       object\n",
      " 8   designation      object\n",
      " 9   exam_taker       object\n",
      " 10  Course_id_y      object\n",
      "dtypes: int64(1), object(10)\n",
      "memory usage: 713.7+ MB\n"
     ]
    }
   ],
   "source": [
    "df_1.info()"
   ]
  },
  {
   "cell_type": "code",
   "execution_count": 98,
   "metadata": {},
   "outputs": [
    {
     "name": "stdout",
     "output_type": "stream",
     "text": [
      "<class 'pandas.core.frame.DataFrame'>\n",
      "Int64Index: 7795148 entries, 0 to 7795147\n",
      "Data columns (total 3 columns):\n",
      " #   Column       Dtype \n",
      "---  ------       ----- \n",
      " 0   user_id      object\n",
      " 1   Course_id_y  object\n",
      " 2   exam_taker   object\n",
      "dtypes: object(3)\n",
      "memory usage: 237.9+ MB\n"
     ]
    }
   ],
   "source": [
    "column= df_1[[\"user_id\",\"Course_id_y\",\"exam_taker\"]]\n",
    "column.info()"
   ]
  },
  {
   "cell_type": "code",
   "execution_count": 99,
   "metadata": {},
   "outputs": [],
   "source": [
    "column1=column.drop_duplicates()"
   ]
  },
  {
   "cell_type": "code",
   "execution_count": 103,
   "metadata": {},
   "outputs": [
    {
     "ename": "TypeError",
     "evalue": "pivot() got an unexpected keyword argument 'dropna'",
     "output_type": "error",
     "traceback": [
      "\u001b[1;31m---------------------------------------------------------------------------\u001b[0m",
      "\u001b[1;31mTypeError\u001b[0m                                 Traceback (most recent call last)",
      "\u001b[1;32m<ipython-input-103-fb135951ee5f>\u001b[0m in \u001b[0;36m<module>\u001b[1;34m\u001b[0m\n\u001b[1;32m----> 1\u001b[1;33m \u001b[0mass\u001b[0m \u001b[1;33m=\u001b[0m \u001b[0mcolumn1\u001b[0m\u001b[1;33m.\u001b[0m\u001b[0mpivot\u001b[0m\u001b[1;33m(\u001b[0m\u001b[0mindex\u001b[0m\u001b[1;33m=\u001b[0m\u001b[1;33m[\u001b[0m\u001b[1;34m'user_id'\u001b[0m\u001b[1;33m]\u001b[0m\u001b[1;33m,\u001b[0m \u001b[0mcolumns\u001b[0m\u001b[1;33m=\u001b[0m\u001b[1;34m'Course_id_y'\u001b[0m\u001b[1;33m,\u001b[0m \u001b[0mvalues\u001b[0m\u001b[1;33m=\u001b[0m\u001b[1;34m'exam_taker'\u001b[0m\u001b[1;33m,\u001b[0m \u001b[0mdropna\u001b[0m\u001b[1;33m=\u001b[0m\u001b[1;32mTrue\u001b[0m\u001b[1;33m)\u001b[0m\u001b[1;33m\u001b[0m\u001b[1;33m\u001b[0m\u001b[0m\n\u001b[0m\u001b[0;32m      2\u001b[0m \u001b[0mass\u001b[0m\u001b[1;33m.\u001b[0m\u001b[0mhead\u001b[0m\u001b[1;33m(\u001b[0m\u001b[1;33m)\u001b[0m\u001b[1;33m\u001b[0m\u001b[1;33m\u001b[0m\u001b[0m\n",
      "\u001b[1;31mTypeError\u001b[0m: pivot() got an unexpected keyword argument 'dropna'"
     ]
    }
   ],
   "source": [
    "ass = column1.pivot(index=['user_id'], columns='Course_id_y', values='exam_taker', dropna=True)\n",
    "ass.head()"
   ]
  },
  {
   "cell_type": "code",
   "execution_count": null,
   "metadata": {},
   "outputs": [],
   "source": []
  }
 ],
 "metadata": {
  "kernelspec": {
   "display_name": "Python 3",
   "language": "python",
   "name": "python3"
  },
  "language_info": {
   "codemirror_mode": {
    "name": "ipython",
    "version": 3
   },
   "file_extension": ".py",
   "mimetype": "text/x-python",
   "name": "python",
   "nbconvert_exporter": "python",
   "pygments_lexer": "ipython3",
   "version": "3.9.1"
  }
 },
 "nbformat": 4,
 "nbformat_minor": 4
}
